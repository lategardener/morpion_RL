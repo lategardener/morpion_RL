{
 "cells": [
  {
   "metadata": {},
   "cell_type": "code",
   "source": [
    "from envs import TicTacToeTrainingEnv\n",
    "import warnings\n",
    "warnings.filterwarnings(\"ignore\")\n",
    "from copy import deepcopy\n",
    "\n",
    "from sb3_contrib.ppo_mask import MaskablePPO\n",
    "import wandb\n",
    "from utils.terminal_colors import *\n",
    "from utils.json_utils import save_opponent_stats, load_opponent_stats\n",
    "from utils.models_utils import should_save_model, get_models\n",
    "from utils.evaluator import evaluate_model_by_opponent\n",
    "from training.config import *\n",
    "from sb3_contrib.common.wrappers import ActionMasker\n",
    "from test.action_mask_ import mask_fn\n",
    "\n"
   ],
   "id": "303d68e3ed027acc",
   "outputs": [],
   "execution_count": null
  },
  {
   "metadata": {},
   "cell_type": "markdown",
   "source": "<h1 style=\"color:#0b9ed8\">TRAINING</h1>",
   "id": "54afbc8fa5be6463"
  },
  {
   "metadata": {
    "ExecuteTime": {
     "end_time": "2025-07-12T12:17:16.895170Z",
     "start_time": "2025-07-12T12:15:32.734148Z"
    }
   },
   "cell_type": "code",
   "source": [
    "os.environ[\"WANDB_DIR\"] = MODELS_DIR\n",
    "\n",
    "# Boucle principale d'entraînement\n",
    "for i in range(START_MODEL_INDEX, MAX_MODELS + 1):\n",
    "\n",
    "    model_name = BASE_MODELS_NAME + f\"_{i}.zip\"\n",
    "    model_path = os.path.join(MODELS_DIR, model_name)\n",
    "\n",
    "    opponent_models = get_models(MODELS_DIR)\n",
    "    opponent_pool = [\"random\", \"smart_random\"] + opponent_models\n",
    "\n",
    "    improvement = False\n",
    "\n",
    "\n",
    "    # Initialisation WandB\n",
    "    wandb.init(\n",
    "        project=f\"{WANDB_MODEL_DIR}\",\n",
    "        name=f\"{WANDB_MODEL_DIR}-run_{model_name}\",\n",
    "        config={\n",
    "            \"model_index\": i,\n",
    "            \"gamma\": GAMMA,\n",
    "            \"gae_lambda\": GAE_LAMBDA,\n",
    "            \"ent_coef_start\": START_ENT_COEF,\n",
    "            \"checkpoint_interval\": CHECKPOINT_INTERVAL,\n",
    "            \"improvement_threshold\": IMPROVEMENT_THRESHOLD\n",
    "        },\n",
    "        reinit=True\n",
    "    )\n",
    "\n",
    "    best_model = None\n",
    "    n_checks = TOTAL_STEPS // CHECKPOINT_INTERVAL\n",
    "\n",
    "    for check in range(n_checks):\n",
    "        current_progress = (check * CHECKPOINT_INTERVAL) / TOTAL_STEPS\n",
    "\n",
    "        #Paramètres dynamiques\n",
    "        n_steps = int(2048 + (4096 - 2048) * current_progress**0.8)  # un peu plus progressif\n",
    "        batch_size = int(512 + (2048 - 512) * current_progress**1.0) # monte moins vite\n",
    "        ent_coef = max(0.001, 0.015 * (1 - current_progress**0.6))   # descend moins vite\n",
    "\n",
    "\n",
    "        best_stats = load_opponent_stats(opponent_pool)\n",
    "\n",
    "        env_init = TicTacToeTrainingEnv(\n",
    "            board_length=TRAINING_DEFAULT_BOARD_LENGTH,\n",
    "            pattern_victory_length=TRAINING_DEFAULT_PATTERN_VICTORY_LENGTH,\n",
    "            opponent_pool=opponent_pool,\n",
    "            first_play_rate=TRAINING_DEFAULT_FIRST_PLAY_RATE,\n",
    "            lost_games_path=None,\n",
    "            review_ratio=TRAINING_DEFAULT_REVIEW_RATIO,\n",
    "            opponent_statistics_file=STATS_PATH,\n",
    "        )\n",
    "        env = ActionMasker(env_init, mask_fn)\n",
    "\n",
    "        # Initialisation/Chargement du modèle\n",
    "        if check == 0:\n",
    "            if i == 1:\n",
    "                model = MaskablePPO(\n",
    "                    \"MultiInputPolicy\",\n",
    "                    env=env,\n",
    "                    verbose=1,\n",
    "                    gamma=GAMMA,\n",
    "                    gae_lambda=GAE_LAMBDA,\n",
    "                    ent_coef=ent_coef,\n",
    "                    n_steps=n_steps,\n",
    "                    batch_size=batch_size,\n",
    "                    learning_rate=LR_SCHEDULE(current_progress),\n",
    "                    policy_kwargs=POLICY_KWARGS\n",
    "                )\n",
    "            else:\n",
    "                prev_model_path = get_models(MODELS_DIR)[-1]\n",
    "                model = MaskablePPO.load(prev_model_path, env=env)\n",
    "                model.ent_coef = ent_coef\n",
    "                model.n_steps = n_steps\n",
    "                model.batch_size = batch_size\n",
    "                model.learning_rate = LR_SCHEDULE(current_progress)\n",
    "\n",
    "        print(f\"\\n{YELLOW}=== Training segment {check+1}/{n_checks} ===\")\n",
    "        print(f\"Steps: {check*CHECKPOINT_INTERVAL}-{(check+1)*CHECKPOINT_INTERVAL}\")\n",
    "        print(f\"Params: n_steps={n_steps}, batch={batch_size}, ent_coef={ent_coef:.4f}\")\n",
    "        print(f\"Opponents: {opponent_pool}{RESET}\\n\")\n",
    "\n",
    "        # Model training\n",
    "        model.learn(total_timesteps=CHECKPOINT_INTERVAL)\n",
    "\n",
    "        # Évaluation\n",
    "        results = evaluate_model_by_opponent(model, opponent_pool, n_episodes=200, stats_path=STATS_PATH)\n",
    "\n",
    "        current_stats = {k: {\n",
    "            \"defeat_rate\": v[\"defeat_rate\"],\n",
    "            \"victory_rate\": v[\"victory_rate\"]\n",
    "        } for k, v in results.items()}\n",
    "\n",
    "        # Logging\n",
    "        wandb.log({\n",
    "            **{f\"metrics/{k}_win_rate\": v[\"victory_rate\"] for k, v in results.items()},\n",
    "            **{f\"metrics/{k}_defeat_rate\": v[\"defeat_rate\"] for k, v in results.items()},\n",
    "            \"hyperparams/n_steps\": n_steps,\n",
    "            \"hyperparams/batch_size\": batch_size,\n",
    "            \"hyperparams/ent_coef\": ent_coef,\n",
    "            \"progress/current\": current_progress,\n",
    "            \"progress/checkpoint\": check\n",
    "        })\n",
    "\n",
    "        # Sauvegarde\n",
    "        if should_save_model(current_stats, best_stats, IMPROVEMENT_THRESHOLD):\n",
    "\n",
    "            print(f\"{GREEN}Saved new best model at checkpoint {check}{RESET}\")\n",
    "            print(f\"{RED}Old best stats -> {best_stats}{RESET}\")\n",
    "            print(f\"{YELLOW}New best stats -> {current_stats}{RESET}\")\n",
    "\n",
    "            improvement = True\n",
    "            best_model = model\n",
    "            best_stats = deepcopy(current_stats)\n",
    "            model.save(model_path)\n",
    "            save_opponent_stats(best_stats, STATS_PATH)\n",
    "\n",
    "\n",
    "    if improvement:\n",
    "        print(f\"{GREEN}Training completed for model {i}. Best model saved.{RESET}\")\n",
    "    else:\n",
    "        print(f\"{RED}Warning: No model met improvement criteria{RESET}\")\n",
    "\n",
    "\n",
    "    wandb.finish()"
   ],
   "id": "c65dd6510ed9b181",
   "outputs": [
    {
     "name": "stdout",
     "output_type": "stream",
     "text": [
      "---/home/cytech/PROGRAMMATION/AI/tic_tac_toe_rl/models/models_3_3---\n"
     ]
    },
    {
     "data": {
      "text/plain": [
       "<IPython.core.display.HTML object>"
      ],
      "text/html": [
       "Tracking run with wandb version 0.19.9"
      ]
     },
     "metadata": {},
     "output_type": "display_data"
    },
    {
     "data": {
      "text/plain": [
       "<IPython.core.display.HTML object>"
      ],
      "text/html": [
       "Run data is saved locally in <code>/home/cytech/PROGRAMMATION/AI/tic_tac_toe_rl/models/models_3_3/wandb/run-20250712_141532-y98w8jrg</code>"
      ]
     },
     "metadata": {},
     "output_type": "display_data"
    },
    {
     "data": {
      "text/plain": [
       "<IPython.core.display.HTML object>"
      ],
      "text/html": [
       "Syncing run <strong><a href='https://wandb.ai/djolemarc-none/3_3/runs/y98w8jrg' target=\"_blank\">3_3-run_model_3_3_4.zip</a></strong> to <a href='https://wandb.ai/djolemarc-none/3_3' target=\"_blank\">Weights & Biases</a> (<a href='https://wandb.me/developer-guide' target=\"_blank\">docs</a>)<br>"
      ]
     },
     "metadata": {},
     "output_type": "display_data"
    },
    {
     "data": {
      "text/plain": [
       "<IPython.core.display.HTML object>"
      ],
      "text/html": [
       " View project at <a href='https://wandb.ai/djolemarc-none/3_3' target=\"_blank\">https://wandb.ai/djolemarc-none/3_3</a>"
      ]
     },
     "metadata": {},
     "output_type": "display_data"
    },
    {
     "data": {
      "text/plain": [
       "<IPython.core.display.HTML object>"
      ],
      "text/html": [
       " View run at <a href='https://wandb.ai/djolemarc-none/3_3/runs/y98w8jrg' target=\"_blank\">https://wandb.ai/djolemarc-none/3_3/runs/y98w8jrg</a>"
      ]
     },
     "metadata": {},
     "output_type": "display_data"
    },
    {
     "name": "stdout",
     "output_type": "stream",
     "text": [
      "---/home/cytech/PROGRAMMATION/AI/tic_tac_toe_rl/models/models_3_3---\n",
      "Wrapping the env with a `Monitor` wrapper\n",
      "Wrapping the env in a DummyVecEnv.\n",
      "\n",
      "\u001B[33m=== Training segment 1/1 ===\n",
      "Steps: 0-10000\n",
      "Params: n_steps=2048, batch=512, ent_coef=0.0150\n",
      "Opponents: ['random', 'smart_random', '/home/cytech/PROGRAMMATION/AI/tic_tac_toe_rl/models/models_3_3/model_3_3_1.zip', '/home/cytech/PROGRAMMATION/AI/tic_tac_toe_rl/models/models_3_3/model_3_3_2.zip', '/home/cytech/PROGRAMMATION/AI/tic_tac_toe_rl/models/models_3_3/model_3_3_3.zip']\u001B[0m\n",
      "\n",
      "---------------------------------\n",
      "| rollout/           |          |\n",
      "|    ep_len_mean     | 3.81     |\n",
      "|    ep_rew_mean     | 0.423    |\n",
      "| time/              |          |\n",
      "|    fps             | 136      |\n",
      "|    iterations      | 1        |\n",
      "|    time_elapsed    | 15       |\n",
      "|    total_timesteps | 2048     |\n",
      "---------------------------------\n",
      "------------------------------------------\n",
      "| rollout/                |              |\n",
      "|    ep_len_mean          | 3.79         |\n",
      "|    ep_rew_mean          | 0.449        |\n",
      "| time/                   |              |\n",
      "|    fps                  | 130          |\n",
      "|    iterations           | 2            |\n",
      "|    time_elapsed         | 31           |\n",
      "|    total_timesteps      | 4096         |\n",
      "| train/                  |              |\n",
      "|    approx_kl            | 0.0040852143 |\n",
      "|    clip_fraction        | 0.0389       |\n",
      "|    clip_range           | 0.2          |\n",
      "|    entropy_loss         | -0.132       |\n",
      "|    explained_variance   | 0.3          |\n",
      "|    learning_rate        | 0.0003       |\n",
      "|    loss                 | 0.363        |\n",
      "|    n_updates            | 1510         |\n",
      "|    policy_gradient_loss | -0.00424     |\n",
      "|    value_loss           | 0.613        |\n",
      "------------------------------------------\n",
      "----------------------------------------\n",
      "| rollout/                |            |\n",
      "|    ep_len_mean          | 3.84       |\n",
      "|    ep_rew_mean          | 0.515      |\n",
      "| time/                   |            |\n",
      "|    fps                  | 125        |\n",
      "|    iterations           | 3          |\n",
      "|    time_elapsed         | 49         |\n",
      "|    total_timesteps      | 6144       |\n",
      "| train/                  |            |\n",
      "|    approx_kl            | 0.00911927 |\n",
      "|    clip_fraction        | 0.0473     |\n",
      "|    clip_range           | 0.2        |\n",
      "|    entropy_loss         | -0.123     |\n",
      "|    explained_variance   | 0.524      |\n",
      "|    learning_rate        | 0.0003     |\n",
      "|    loss                 | 0.152      |\n",
      "|    n_updates            | 1520       |\n",
      "|    policy_gradient_loss | -0.00418   |\n",
      "|    value_loss           | 0.5        |\n",
      "----------------------------------------\n",
      "----------------------------------------\n",
      "| rollout/                |            |\n",
      "|    ep_len_mean          | 4.01       |\n",
      "|    ep_rew_mean          | 0.543      |\n",
      "| time/                   |            |\n",
      "|    fps                  | 114        |\n",
      "|    iterations           | 4          |\n",
      "|    time_elapsed         | 71         |\n",
      "|    total_timesteps      | 8192       |\n",
      "| train/                  |            |\n",
      "|    approx_kl            | 0.02859521 |\n",
      "|    clip_fraction        | 0.0778     |\n",
      "|    clip_range           | 0.2        |\n",
      "|    entropy_loss         | -0.152     |\n",
      "|    explained_variance   | 0.529      |\n",
      "|    learning_rate        | 0.0003     |\n",
      "|    loss                 | 0.223      |\n",
      "|    n_updates            | 1530       |\n",
      "|    policy_gradient_loss | -0.00443   |\n",
      "|    value_loss           | 0.504      |\n",
      "----------------------------------------\n",
      "------------------------------------------\n",
      "| rollout/                |              |\n",
      "|    ep_len_mean          | 3.93         |\n",
      "|    ep_rew_mean          | 0.493        |\n",
      "| time/                   |              |\n",
      "|    fps                  | 112          |\n",
      "|    iterations           | 5            |\n",
      "|    time_elapsed         | 91           |\n",
      "|    total_timesteps      | 10240        |\n",
      "| train/                  |              |\n",
      "|    approx_kl            | 0.0039015785 |\n",
      "|    clip_fraction        | 0.0626       |\n",
      "|    clip_range           | 0.2          |\n",
      "|    entropy_loss         | -0.154       |\n",
      "|    explained_variance   | 0.402        |\n",
      "|    learning_rate        | 0.0003       |\n",
      "|    loss                 | 0.223        |\n",
      "|    n_updates            | 1540         |\n",
      "|    policy_gradient_loss | -0.0048      |\n",
      "|    value_loss           | 0.713        |\n",
      "------------------------------------------\n",
      "\u001B[31mWarning: No model met improvement criteria\u001B[0m\n"
     ]
    },
    {
     "data": {
      "text/plain": [
       "<IPython.core.display.HTML object>"
      ],
      "text/html": []
     },
     "metadata": {},
     "output_type": "display_data"
    },
    {
     "data": {
      "text/plain": [
       "<IPython.core.display.HTML object>"
      ],
      "text/html": [
       "<br>    <style><br>        .wandb-row {<br>            display: flex;<br>            flex-direction: row;<br>            flex-wrap: wrap;<br>            justify-content: flex-start;<br>            width: 100%;<br>        }<br>        .wandb-col {<br>            display: flex;<br>            flex-direction: column;<br>            flex-basis: 100%;<br>            flex: 1;<br>            padding: 10px;<br>        }<br>    </style><br><div class=\"wandb-row\"><div class=\"wandb-col\"><h3>Run history:</h3><br/><table class=\"wandb\"><tr><td>hyperparams/batch_size</td><td>▁</td></tr><tr><td>hyperparams/ent_coef</td><td>▁</td></tr><tr><td>hyperparams/n_steps</td><td>▁</td></tr><tr><td>metrics//home/cytech/PROGRAMMATION/AI/tic_tac_toe_rl/models/models_3_3/model_3_3_1.zip_defeat_rate</td><td>▁</td></tr><tr><td>metrics//home/cytech/PROGRAMMATION/AI/tic_tac_toe_rl/models/models_3_3/model_3_3_1.zip_win_rate</td><td>▁</td></tr><tr><td>metrics//home/cytech/PROGRAMMATION/AI/tic_tac_toe_rl/models/models_3_3/model_3_3_2.zip_defeat_rate</td><td>▁</td></tr><tr><td>metrics//home/cytech/PROGRAMMATION/AI/tic_tac_toe_rl/models/models_3_3/model_3_3_2.zip_win_rate</td><td>▁</td></tr><tr><td>metrics//home/cytech/PROGRAMMATION/AI/tic_tac_toe_rl/models/models_3_3/model_3_3_3.zip_defeat_rate</td><td>▁</td></tr><tr><td>metrics//home/cytech/PROGRAMMATION/AI/tic_tac_toe_rl/models/models_3_3/model_3_3_3.zip_win_rate</td><td>▁</td></tr><tr><td>metrics/random_defeat_rate</td><td>▁</td></tr><tr><td>metrics/random_win_rate</td><td>▁</td></tr><tr><td>metrics/smart_random_defeat_rate</td><td>▁</td></tr><tr><td>metrics/smart_random_win_rate</td><td>▁</td></tr><tr><td>progress/checkpoint</td><td>▁</td></tr><tr><td>progress/current</td><td>▁</td></tr></table><br/></div><div class=\"wandb-col\"><h3>Run summary:</h3><br/><table class=\"wandb\"><tr><td>hyperparams/batch_size</td><td>512</td></tr><tr><td>hyperparams/ent_coef</td><td>0.015</td></tr><tr><td>hyperparams/n_steps</td><td>2048</td></tr><tr><td>metrics//home/cytech/PROGRAMMATION/AI/tic_tac_toe_rl/models/models_3_3/model_3_3_1.zip_defeat_rate</td><td>0</td></tr><tr><td>metrics//home/cytech/PROGRAMMATION/AI/tic_tac_toe_rl/models/models_3_3/model_3_3_1.zip_win_rate</td><td>1</td></tr><tr><td>metrics//home/cytech/PROGRAMMATION/AI/tic_tac_toe_rl/models/models_3_3/model_3_3_2.zip_defeat_rate</td><td>0</td></tr><tr><td>metrics//home/cytech/PROGRAMMATION/AI/tic_tac_toe_rl/models/models_3_3/model_3_3_2.zip_win_rate</td><td>1</td></tr><tr><td>metrics//home/cytech/PROGRAMMATION/AI/tic_tac_toe_rl/models/models_3_3/model_3_3_3.zip_defeat_rate</td><td>0</td></tr><tr><td>metrics//home/cytech/PROGRAMMATION/AI/tic_tac_toe_rl/models/models_3_3/model_3_3_3.zip_win_rate</td><td>0.5</td></tr><tr><td>metrics/random_defeat_rate</td><td>0.16</td></tr><tr><td>metrics/random_win_rate</td><td>0.82</td></tr><tr><td>metrics/smart_random_defeat_rate</td><td>0.37</td></tr><tr><td>metrics/smart_random_win_rate</td><td>0.49</td></tr><tr><td>progress/checkpoint</td><td>0</td></tr><tr><td>progress/current</td><td>0</td></tr></table><br/></div></div>"
      ]
     },
     "metadata": {},
     "output_type": "display_data"
    },
    {
     "data": {
      "text/plain": [
       "<IPython.core.display.HTML object>"
      ],
      "text/html": [
       " View run <strong style=\"color:#cdcd00\">3_3-run_model_3_3_4.zip</strong> at: <a href='https://wandb.ai/djolemarc-none/3_3/runs/y98w8jrg' target=\"_blank\">https://wandb.ai/djolemarc-none/3_3/runs/y98w8jrg</a><br> View project at: <a href='https://wandb.ai/djolemarc-none/3_3' target=\"_blank\">https://wandb.ai/djolemarc-none/3_3</a><br>Synced 5 W&B file(s), 0 media file(s), 0 artifact file(s) and 0 other file(s)"
      ]
     },
     "metadata": {},
     "output_type": "display_data"
    },
    {
     "data": {
      "text/plain": [
       "<IPython.core.display.HTML object>"
      ],
      "text/html": [
       "Find logs at: <code>/home/cytech/PROGRAMMATION/AI/tic_tac_toe_rl/models/models_3_3/wandb/run-20250712_141532-y98w8jrg/logs</code>"
      ]
     },
     "metadata": {},
     "output_type": "display_data"
    }
   ],
   "execution_count": 4
  }
 ],
 "metadata": {
  "kernelspec": {
   "display_name": "Python 3",
   "language": "python",
   "name": "python3"
  },
  "language_info": {
   "codemirror_mode": {
    "name": "ipython",
    "version": 2
   },
   "file_extension": ".py",
   "mimetype": "text/x-python",
   "name": "python",
   "nbconvert_exporter": "python",
   "pygments_lexer": "ipython2",
   "version": "2.7.6"
  }
 },
 "nbformat": 4,
 "nbformat_minor": 5
}
