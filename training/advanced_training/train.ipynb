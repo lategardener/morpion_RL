{
 "cells": [
  {
   "metadata": {
    "ExecuteTime": {
     "end_time": "2025-07-07T20:48:20.013688Z",
     "start_time": "2025-07-07T20:48:19.994748Z"
    }
   },
   "cell_type": "code",
   "source": [
    "from envs import TicTacToeTrainingEnv\n",
    "import warnings\n",
    "warnings.filterwarnings(\"ignore\")\n",
    "from copy import deepcopy\n",
    "\n",
    "from sb3_contrib.ppo_mask import MaskablePPO\n",
    "import wandb\n",
    "from utils.terminal_colors import *\n",
    "from utils.json_utils import save_opponent_stats, load_opponent_stats\n",
    "from utils.models_utils import should_save_model, get_models\n",
    "from utils.evaluator import evaluate_model_by_opponent\n",
    "from training.advanced_training.config import *\n",
    "from sb3_contrib.common.wrappers import ActionMasker\n",
    "from test.action_mask_ import mask_fn\n",
    "\n"
   ],
   "id": "303d68e3ed027acc",
   "outputs": [],
   "execution_count": 2
  },
  {
   "metadata": {},
   "cell_type": "markdown",
   "source": "<h1 style=\"color:#0b9ed8\">TRAINING</h1>",
   "id": "54afbc8fa5be6463"
  },
  {
   "metadata": {
    "ExecuteTime": {
     "end_time": "2025-07-06T01:00:25.071154Z",
     "start_time": "2025-07-05T23:01:32.306835Z"
    }
   },
   "cell_type": "code",
   "source": [
    "\n",
    "# Boucle principale d'entraînement\n",
    "for i in range(START_MODEL_INDEX, MAX_MODELS + 1):\n",
    "\n",
    "    model_name = BASE_MODELS_NAME + f\"{i}.zip\"\n",
    "    model_path = os.path.join(MODELS_DIR, model_name)\n",
    "\n",
    "    opponent_models = get_models(MODELS_DIR)\n",
    "    opponent_pool = [\"random\", \"smart_random\"] + opponent_models\n",
    "\n",
    "    improvement = False\n",
    "\n",
    "\n",
    "    # Initialisation WandB\n",
    "    wandb.init(\n",
    "        project=f\"{MODELS_DIR}\",\n",
    "        name=f\"{MODELS_DIR}-run_{model_name}\",\n",
    "        config={\n",
    "            \"model_index\": i,\n",
    "            \"gamma\": GAMMA,\n",
    "            \"gae_lambda\": GAE_LAMBDA,\n",
    "            \"ent_coef_start\": START_ENT_COEF,\n",
    "            \"checkpoint_interval\": CHECKPOINT_INTERVAL,\n",
    "            \"improvement_threshold\": IMPROVEMENT_THRESHOLD\n",
    "        },\n",
    "        reinit=True\n",
    "    )\n",
    "\n",
    "    best_model = None\n",
    "    best_stats = {}\n",
    "    n_checks = TOTAL_STEPS // CHECKPOINT_INTERVAL\n",
    "\n",
    "    for check in range(n_checks):\n",
    "        current_progress = (check * CHECKPOINT_INTERVAL) / TOTAL_STEPS\n",
    "\n",
    "        #Paramètres dynamiques\n",
    "        n_steps = int(2048 + (4096 - 2048) * current_progress**0.8)  # un peu plus progressif\n",
    "        batch_size = int(512 + (2048 - 512) * current_progress**1.0) # monte moins vite\n",
    "        ent_coef = max(0.001, 0.015 * (1 - current_progress**0.6))   # descend moins vite\n",
    "\n",
    "\n",
    "        opponent_stats = load_opponent_stats(opponent_pool)\n",
    "\n",
    "        env_init = TicTacToeTrainingEnv(\n",
    "            opponent_pool=opponent_pool,\n",
    "            first_play_rate=0.5,\n",
    "            lost_games_path=\"defeated_games.json\",\n",
    "            review_ratio=0.0,\n",
    "            opponent_statistics_file=STATS_PATH,\n",
    "        )\n",
    "        env = ActionMasker(env_init, mask_fn)\n",
    "\n",
    "        # Initialisation/Chargement du modèle\n",
    "        if check == 0:\n",
    "            if i == 1:\n",
    "                model = MaskablePPO(\n",
    "                    \"MultiInputPolicy\",\n",
    "                    env=env,\n",
    "                    verbose=1,\n",
    "                    gamma=GAMMA,\n",
    "                    gae_lambda=GAE_LAMBDA,\n",
    "                    ent_coef=ent_coef,\n",
    "                    n_steps=n_steps,\n",
    "                    batch_size=batch_size,\n",
    "                    learning_rate=LR_SCHEDULE(current_progress),\n",
    "                    policy_kwargs=POLICY_KWARGS\n",
    "                )\n",
    "            else:\n",
    "                prev_model_path = get_models(MODELS_DIR)[-1]\n",
    "                model = MaskablePPO.load(prev_model_path, env=env)\n",
    "                model.ent_coef = ent_coef\n",
    "                model.n_steps = n_steps\n",
    "                model.batch_size = batch_size\n",
    "                model.learning_rate = LR_SCHEDULE(current_progress)\n",
    "\n",
    "        print(f\"\\n{YELLOW}=== Training segment {check+1}/{n_checks} ===\")\n",
    "        print(f\"Steps: {check*CHECKPOINT_INTERVAL}-{(check+1)*CHECKPOINT_INTERVAL}\")\n",
    "        print(f\"Params: n_steps={n_steps}, batch={batch_size}, ent_coef={ent_coef:.4f}\")\n",
    "        print(f\"Opponents: {opponent_pool}{RESET}\\n\")\n",
    "\n",
    "        # Model training\n",
    "        model.learn(total_timesteps=CHECKPOINT_INTERVAL)\n",
    "\n",
    "        # Évaluation\n",
    "        results = evaluate_model_by_opponent(model, opponent_pool, n_episodes=200, stats_path=STATS_PATH)\n",
    "\n",
    "        current_stats = {k: {\n",
    "            \"defeat_rate\": v[\"defeat_rate\"],\n",
    "            \"victory_rate\": v[\"victory_rate\"]\n",
    "        } for k, v in results.items()}\n",
    "\n",
    "        # Logging\n",
    "        wandb.log({\n",
    "            **{f\"metrics/{k}_win_rate\": v[\"victory_rate\"] for k, v in results.items()},\n",
    "            **{f\"metrics/{k}_defeat_rate\": v[\"defeat_rate\"] for k, v in results.items()},\n",
    "            \"hyperparams/n_steps\": n_steps,\n",
    "            \"hyperparams/batch_size\": batch_size,\n",
    "            \"hyperparams/ent_coef\": ent_coef,\n",
    "            \"progress/current\": current_progress,\n",
    "            \"progress/checkpoint\": check\n",
    "        })\n",
    "\n",
    "        # Sauvegarde\n",
    "        if should_save_model(current_stats, best_stats, IMPROVEMENT_THRESHOLD):\n",
    "\n",
    "            print(f\"{GREEN}Saved new best model at checkpoint {check}{RESET}\")\n",
    "            print(f\"{RED}Old best stats -> {best_stats}{RESET}\")\n",
    "            print(f\"{YELLOW}New best stats -> {current_stats}{RESET}\")\n",
    "\n",
    "            improvement = True\n",
    "            best_model = model\n",
    "            best_stats = deepcopy(current_stats)\n",
    "            model.save(model_path)\n",
    "            save_opponent_stats(best_stats, STATS_PATH)\n",
    "\n",
    "\n",
    "    if improvement:\n",
    "        print(f\"{GREEN}Training completed for model {i}. Best model saved.{RESET}\")\n",
    "    else:\n",
    "        print(f\"{RED}Warning: No model met improvement criteria{RESET}\")\n",
    "\n",
    "\n",
    "    wandb.finish()"
   ],
   "id": "e7f729d70320b19",
   "outputs": [
    {
     "name": "stderr",
     "output_type": "stream",
     "text": [
      "\u001B[34m\u001B[1mwandb\u001B[0m: Using wandb-core as the SDK backend.  Please refer to https://wandb.me/wandb-core for more information.\n",
      "\u001B[34m\u001B[1mwandb\u001B[0m: Currently logged in as: \u001B[33mdjolemarc\u001B[0m (\u001B[33mdjolemarc-none\u001B[0m) to \u001B[32mhttps://api.wandb.ai\u001B[0m. Use \u001B[1m`wandb login --relogin`\u001B[0m to force relogin\n",
      "\u001B[34m\u001B[1mwandb\u001B[0m: \u001B[33mWARNING\u001B[0m Using a boolean value for 'reinit' is deprecated. Use 'return_previous' or 'finish_previous' instead.\n"
     ]
    },
    {
     "data": {
      "text/plain": [
       "<IPython.core.display.HTML object>"
      ],
      "text/html": [
       "Tracking run with wandb version 0.19.9"
      ]
     },
     "metadata": {},
     "output_type": "display_data"
    },
    {
     "data": {
      "text/plain": [
       "<IPython.core.display.HTML object>"
      ],
      "text/html": [
       "Run data is saved locally in <code>/home/cytech/PROGRAMMATION/AI/tic_tac_toe_rl/scripts/wandb/run-20250706_010133-8ysb3syz</code>"
      ]
     },
     "metadata": {},
     "output_type": "display_data"
    },
    {
     "data": {
      "text/plain": [
       "<IPython.core.display.HTML object>"
      ],
      "text/html": [
       "Syncing run <strong><a href='https://wandb.ai/djolemarc-none/models_CONNECTX_KAGGLE/runs/8ysb3syz' target=\"_blank\">models-run_model_1</a></strong> to <a href='https://wandb.ai/djolemarc-none/models_CONNECTX_KAGGLE' target=\"_blank\">Weights & Biases</a> (<a href='https://wandb.me/developer-guide' target=\"_blank\">docs</a>)<br>"
      ]
     },
     "metadata": {},
     "output_type": "display_data"
    },
    {
     "data": {
      "text/plain": [
       "<IPython.core.display.HTML object>"
      ],
      "text/html": [
       " View project at <a href='https://wandb.ai/djolemarc-none/models_CONNECTX_KAGGLE' target=\"_blank\">https://wandb.ai/djolemarc-none/models_CONNECTX_KAGGLE</a>"
      ]
     },
     "metadata": {},
     "output_type": "display_data"
    },
    {
     "data": {
      "text/plain": [
       "<IPython.core.display.HTML object>"
      ],
      "text/html": [
       " View run at <a href='https://wandb.ai/djolemarc-none/models_CONNECTX_KAGGLE/runs/8ysb3syz' target=\"_blank\">https://wandb.ai/djolemarc-none/models_CONNECTX_KAGGLE/runs/8ysb3syz</a>"
      ]
     },
     "metadata": {},
     "output_type": "display_data"
    },
    {
     "name": "stdout",
     "output_type": "stream",
     "text": [
      "⚠️ No statistics file provided or file not found.\n",
      "Using cpu device\n",
      "Wrapping the env with a `Monitor` wrapper\n",
      "Wrapping the env in a DummyVecEnv.\n",
      "\n",
      "\u001B[33m=== Training segment 1/5 ===\n",
      "Steps: 0-4000\n",
      "Params: n_steps=2048, batch=512, ent_coef=0.0150\n",
      "Opponents: ['random', 'smart_random']\u001B[0m\n",
      "\n",
      "---------------------------------\n",
      "| rollout/           |          |\n",
      "|    ep_len_mean     | 22.9     |\n",
      "|    ep_rew_mean     | -1.19    |\n",
      "| time/              |          |\n",
      "|    fps             | 10       |\n",
      "|    iterations      | 1        |\n",
      "|    time_elapsed    | 190      |\n",
      "|    total_timesteps | 2048     |\n",
      "---------------------------------\n",
      "----------------------------------------\n",
      "| rollout/                |            |\n",
      "|    ep_len_mean          | 22.8       |\n",
      "|    ep_rew_mean          | -2.39      |\n",
      "| time/                   |            |\n",
      "|    fps                  | 10         |\n",
      "|    iterations           | 2          |\n",
      "|    time_elapsed         | 380        |\n",
      "|    total_timesteps      | 4096       |\n",
      "| train/                  |            |\n",
      "|    approx_kl            | 0.01647259 |\n",
      "|    clip_fraction        | 0.245      |\n",
      "|    clip_range           | 0.2        |\n",
      "|    entropy_loss         | -3.97      |\n",
      "|    explained_variance   | -0.0185    |\n",
      "|    learning_rate        | 0.0003     |\n",
      "|    loss                 | 0.508      |\n",
      "|    n_updates            | 10         |\n",
      "|    policy_gradient_loss | -0.0421    |\n",
      "|    value_loss           | 2.5        |\n",
      "----------------------------------------\n",
      "⚠️ No statistics file provided or file not found.\n",
      "⚠️ No statistics file provided or file not found.\n",
      "⚠️ No statistics file provided or file not found.\n",
      "⚠️ No statistics file provided or file not found.\n",
      "\u001B[32mSaved new best model at checkpoint 0\u001B[0m\n",
      "\u001B[31mOld best stats -> {}\u001B[0m\n",
      "\u001B[33mNew best stats -> {'random': {'defeat_rate': 0.67, 'victory_rate': 0.33}, 'smart_random': {'defeat_rate': 1.0, 'victory_rate': 0.0}}\u001B[0m\n",
      "\n",
      "\u001B[33m=== Training segment 2/5 ===\n",
      "Steps: 4000-8000\n",
      "Params: n_steps=2613, batch=819, ent_coef=0.0093\n",
      "Opponents: ['random', 'smart_random']\u001B[0m\n",
      "\n",
      "---------------------------------\n",
      "| rollout/           |          |\n",
      "|    ep_len_mean     | 23.3     |\n",
      "|    ep_rew_mean     | -4.21    |\n",
      "| time/              |          |\n",
      "|    fps             | 10       |\n",
      "|    iterations      | 1        |\n",
      "|    time_elapsed    | 198      |\n",
      "|    total_timesteps | 2048     |\n",
      "---------------------------------\n",
      "-----------------------------------------\n",
      "| rollout/                |             |\n",
      "|    ep_len_mean          | 21.5        |\n",
      "|    ep_rew_mean          | -1.1        |\n",
      "| time/                   |             |\n",
      "|    fps                  | 10          |\n",
      "|    iterations           | 2           |\n",
      "|    time_elapsed         | 389         |\n",
      "|    total_timesteps      | 4096        |\n",
      "| train/                  |             |\n",
      "|    approx_kl            | 0.013511512 |\n",
      "|    clip_fraction        | 0.149       |\n",
      "|    clip_range           | 0.2         |\n",
      "|    entropy_loss         | -3.94       |\n",
      "|    explained_variance   | -0.142      |\n",
      "|    learning_rate        | 0.0003      |\n",
      "|    loss                 | 13.6        |\n",
      "|    n_updates            | 30          |\n",
      "|    policy_gradient_loss | -0.031      |\n",
      "|    value_loss           | 42.5        |\n",
      "-----------------------------------------\n",
      "\u001B[32mSaved new best model at checkpoint 1\u001B[0m\n",
      "\u001B[31mOld best stats -> {'random': {'defeat_rate': 0.67, 'victory_rate': 0.33}, 'smart_random': {'defeat_rate': 1.0, 'victory_rate': 0.0}}\u001B[0m\n",
      "\u001B[33mNew best stats -> {'random': {'defeat_rate': 0.56, 'victory_rate': 0.44}, 'smart_random': {'defeat_rate': 0.995, 'victory_rate': 0.005}}\u001B[0m\n",
      "\n",
      "\u001B[33m=== Training segment 3/5 ===\n",
      "Steps: 8000-12000\n",
      "Params: n_steps=3031, batch=1126, ent_coef=0.0063\n",
      "Opponents: ['random', 'smart_random']\u001B[0m\n",
      "\n",
      "---------------------------------\n",
      "| rollout/           |          |\n",
      "|    ep_len_mean     | 22.4     |\n",
      "|    ep_rew_mean     | -2.61    |\n",
      "| time/              |          |\n",
      "|    fps             | 10       |\n",
      "|    iterations      | 1        |\n",
      "|    time_elapsed    | 186      |\n",
      "|    total_timesteps | 2048     |\n",
      "---------------------------------\n",
      "-----------------------------------------\n",
      "| rollout/                |             |\n",
      "|    ep_len_mean          | 23.4        |\n",
      "|    ep_rew_mean          | -1.07       |\n",
      "| time/                   |             |\n",
      "|    fps                  | 10          |\n",
      "|    iterations           | 2           |\n",
      "|    time_elapsed         | 383         |\n",
      "|    total_timesteps      | 4096        |\n",
      "| train/                  |             |\n",
      "|    approx_kl            | 0.013753955 |\n",
      "|    clip_fraction        | 0.222       |\n",
      "|    clip_range           | 0.2         |\n",
      "|    entropy_loss         | -3.94       |\n",
      "|    explained_variance   | -0.104      |\n",
      "|    learning_rate        | 0.0003      |\n",
      "|    loss                 | 7.76        |\n",
      "|    n_updates            | 50          |\n",
      "|    policy_gradient_loss | -0.0332     |\n",
      "|    value_loss           | 24.5        |\n",
      "-----------------------------------------\n",
      "\n",
      "\u001B[33m=== Training segment 4/5 ===\n",
      "Steps: 12000-16000\n",
      "Params: n_steps=3408, batch=1433, ent_coef=0.0040\n",
      "Opponents: ['random', 'smart_random']\u001B[0m\n",
      "\n",
      "---------------------------------\n",
      "| rollout/           |          |\n",
      "|    ep_len_mean     | 23       |\n",
      "|    ep_rew_mean     | -0.739   |\n",
      "| time/              |          |\n",
      "|    fps             | 6        |\n",
      "|    iterations      | 1        |\n",
      "|    time_elapsed    | 326      |\n",
      "|    total_timesteps | 2048     |\n",
      "---------------------------------\n",
      "-----------------------------------------\n",
      "| rollout/                |             |\n",
      "|    ep_len_mean          | 23.4        |\n",
      "|    ep_rew_mean          | -0.938      |\n",
      "| time/                   |             |\n",
      "|    fps                  | 6           |\n",
      "|    iterations           | 2           |\n",
      "|    time_elapsed         | 625         |\n",
      "|    total_timesteps      | 4096        |\n",
      "| train/                  |             |\n",
      "|    approx_kl            | 0.025363501 |\n",
      "|    clip_fraction        | 0.271       |\n",
      "|    clip_range           | 0.2         |\n",
      "|    entropy_loss         | -3.88       |\n",
      "|    explained_variance   | -1.9        |\n",
      "|    learning_rate        | 0.0003      |\n",
      "|    loss                 | 0.0938      |\n",
      "|    n_updates            | 70          |\n",
      "|    policy_gradient_loss | -0.0635     |\n",
      "|    value_loss           | 1.27        |\n",
      "-----------------------------------------\n",
      "\n",
      "\u001B[33m=== Training segment 5/5 ===\n",
      "Steps: 16000-20000\n",
      "Params: n_steps=3761, batch=1740, ent_coef=0.0019\n",
      "Opponents: ['random', 'smart_random']\u001B[0m\n",
      "\n",
      "---------------------------------\n",
      "| rollout/           |          |\n",
      "|    ep_len_mean     | 23       |\n",
      "|    ep_rew_mean     | -1.31    |\n",
      "| time/              |          |\n",
      "|    fps             | 9        |\n",
      "|    iterations      | 1        |\n",
      "|    time_elapsed    | 225      |\n",
      "|    total_timesteps | 2048     |\n",
      "---------------------------------\n",
      "-----------------------------------------\n",
      "| rollout/                |             |\n",
      "|    ep_len_mean          | 22.9        |\n",
      "|    ep_rew_mean          | -1.08       |\n",
      "| time/                   |             |\n",
      "|    fps                  | 9           |\n",
      "|    iterations           | 2           |\n",
      "|    time_elapsed         | 430         |\n",
      "|    total_timesteps      | 4096        |\n",
      "| train/                  |             |\n",
      "|    approx_kl            | 0.014669053 |\n",
      "|    clip_fraction        | 0.187       |\n",
      "|    clip_range           | 0.2         |\n",
      "|    entropy_loss         | -3.86       |\n",
      "|    explained_variance   | -0.0507     |\n",
      "|    learning_rate        | 0.0003      |\n",
      "|    loss                 | 5.48        |\n",
      "|    n_updates            | 90          |\n",
      "|    policy_gradient_loss | -0.0214     |\n",
      "|    value_loss           | 8.72        |\n",
      "-----------------------------------------\n",
      "\u001B[32mSaved new best model at checkpoint 4\u001B[0m\n",
      "\u001B[31mOld best stats -> {'random': {'defeat_rate': 0.56, 'victory_rate': 0.44}, 'smart_random': {'defeat_rate': 0.995, 'victory_rate': 0.005}}\u001B[0m\n",
      "\u001B[33mNew best stats -> {'random': {'defeat_rate': 0.345, 'victory_rate': 0.655}, 'smart_random': {'defeat_rate': 0.995, 'victory_rate': 0.005}}\u001B[0m\n",
      "\u001B[32mTraining completed for model 1. Best model saved.\u001B[0m\n"
     ]
    },
    {
     "data": {
      "text/plain": [
       "<IPython.core.display.HTML object>"
      ],
      "text/html": []
     },
     "metadata": {},
     "output_type": "display_data"
    },
    {
     "data": {
      "text/plain": [
       "<IPython.core.display.HTML object>"
      ],
      "text/html": [
       "<br>    <style><br>        .wandb-row {<br>            display: flex;<br>            flex-direction: row;<br>            flex-wrap: wrap;<br>            justify-content: flex-start;<br>            width: 100%;<br>        }<br>        .wandb-col {<br>            display: flex;<br>            flex-direction: column;<br>            flex-basis: 100%;<br>            flex: 1;<br>            padding: 10px;<br>        }<br>    </style><br><div class=\"wandb-row\"><div class=\"wandb-col\"><h3>Run history:</h3><br/><table class=\"wandb\"><tr><td>hyperparams/batch_size</td><td>▁▃▅▆█</td></tr><tr><td>hyperparams/ent_coef</td><td>█▅▃▂▁</td></tr><tr><td>hyperparams/n_steps</td><td>▁▃▅▇█</td></tr><tr><td>metrics/random_defeat_rate</td><td>█▆▆▅▁</td></tr><tr><td>metrics/random_win_rate</td><td>▁▃▃▃█</td></tr><tr><td>metrics/smart_random_defeat_rate</td><td>█▁██▁</td></tr><tr><td>metrics/smart_random_win_rate</td><td>▁█▁▁█</td></tr><tr><td>progress/checkpoint</td><td>▁▃▅▆█</td></tr><tr><td>progress/current</td><td>▁▃▅▆█</td></tr></table><br/></div><div class=\"wandb-col\"><h3>Run summary:</h3><br/><table class=\"wandb\"><tr><td>hyperparams/batch_size</td><td>1740</td></tr><tr><td>hyperparams/ent_coef</td><td>0.00188</td></tr><tr><td>hyperparams/n_steps</td><td>3761</td></tr><tr><td>metrics/random_defeat_rate</td><td>0.345</td></tr><tr><td>metrics/random_win_rate</td><td>0.655</td></tr><tr><td>metrics/smart_random_defeat_rate</td><td>0.995</td></tr><tr><td>metrics/smart_random_win_rate</td><td>0.005</td></tr><tr><td>progress/checkpoint</td><td>4</td></tr><tr><td>progress/current</td><td>0.8</td></tr></table><br/></div></div>"
      ]
     },
     "metadata": {},
     "output_type": "display_data"
    },
    {
     "data": {
      "text/plain": [
       "<IPython.core.display.HTML object>"
      ],
      "text/html": [
       " View run <strong style=\"color:#cdcd00\">models-run_model_1</strong> at: <a href='https://wandb.ai/djolemarc-none/models_CONNECTX_KAGGLE/runs/8ysb3syz' target=\"_blank\">https://wandb.ai/djolemarc-none/models_CONNECTX_KAGGLE/runs/8ysb3syz</a><br> View project at: <a href='https://wandb.ai/djolemarc-none/models_CONNECTX_KAGGLE' target=\"_blank\">https://wandb.ai/djolemarc-none/models_CONNECTX_KAGGLE</a><br>Synced 5 W&B file(s), 0 media file(s), 0 artifact file(s) and 0 other file(s)"
      ]
     },
     "metadata": {},
     "output_type": "display_data"
    },
    {
     "data": {
      "text/plain": [
       "<IPython.core.display.HTML object>"
      ],
      "text/html": [
       "Find logs at: <code>./wandb/run-20250706_010133-8ysb3syz/logs</code>"
      ]
     },
     "metadata": {},
     "output_type": "display_data"
    }
   ],
   "execution_count": 2
  }
 ],
 "metadata": {
  "kernelspec": {
   "display_name": "Python 3",
   "language": "python",
   "name": "python3"
  },
  "language_info": {
   "codemirror_mode": {
    "name": "ipython",
    "version": 2
   },
   "file_extension": ".py",
   "mimetype": "text/x-python",
   "name": "python",
   "nbconvert_exporter": "python",
   "pygments_lexer": "ipython2",
   "version": "2.7.6"
  }
 },
 "nbformat": 4,
 "nbformat_minor": 5
}
