{
 "cells": [
  {
   "metadata": {
    "ExecuteTime": {
     "end_time": "2025-07-05T22:23:42.218446Z",
     "start_time": "2025-07-05T22:23:39.544811Z"
    }
   },
   "cell_type": "code",
   "source": [
    "from envs import TicTacToeTrainingEnv\n",
    "import warnings\n",
    "warnings.filterwarnings(\"ignore\")\n",
    "from copy import deepcopy\n",
    "\n",
    "from sb3_contrib.ppo_mask import MaskablePPO\n",
    "import wandb\n",
    "from utils.terminal_colors import *\n",
    "from utils.json_utils import save_opponent_stats, load_opponent_stats\n",
    "from utils.models_utils import should_save_model, get_models\n",
    "from utils.evaluator import evaluate_model_by_opponent\n",
    "from configs.config import *\n",
    "from sb3_contrib.common.wrappers import ActionMasker\n",
    "from scripts.action_mask_ import mask_fn\n",
    "\n"
   ],
   "id": "303d68e3ed027acc",
   "outputs": [],
   "execution_count": 1
  },
  {
   "metadata": {},
   "cell_type": "markdown",
   "source": "<h1 style=\"color:#0b9ed8\">TRAINING</h1>",
   "id": "54afbc8fa5be6463"
  },
  {
   "metadata": {
    "ExecuteTime": {
     "end_time": "2025-07-05T22:23:46.607012Z",
     "start_time": "2025-07-05T22:23:43.321945Z"
    }
   },
   "cell_type": "code",
   "source": [
    "\n",
    "# Boucle principale d'entraînement\n",
    "for i in range(START_MODEL_INDEX, MAX_MODELS + 1):\n",
    "\n",
    "    model_name = f\"model_{i}.zip\"\n",
    "    model_path = os.path.join(MODELS_DIR, model_name)\n",
    "\n",
    "    opponent_models = get_models(MODELS_DIR)\n",
    "    opponent_pool = [\"random\", \"smart_random\"] + opponent_models\n",
    "\n",
    "    improvement = False\n",
    "\n",
    "\n",
    "    # Initialisation WandB\n",
    "    wandb.init(\n",
    "        project=f\"{MODELS_DIR}_CONNECTX_KAGGLE\",\n",
    "        name=f\"{MODELS_DIR}-run_model_{i}\",\n",
    "        config={\n",
    "            \"model_index\": i,\n",
    "            \"gamma\": GAMMA,\n",
    "            \"gae_lambda\": GAE_LAMBDA,\n",
    "            \"ent_coef_start\": START_ENT_COEF,\n",
    "            \"checkpoint_interval\": CHECKPOINT_INTERVAL,\n",
    "            \"improvement_threshold\": IMPROVEMENT_THRESHOLD\n",
    "        },\n",
    "        reinit=True\n",
    "    )\n",
    "\n",
    "    best_model = None\n",
    "    best_stats = {}\n",
    "    n_checks = TOTAL_STEPS // CHECKPOINT_INTERVAL\n",
    "\n",
    "    for check in range(n_checks):\n",
    "        current_progress = (check * CHECKPOINT_INTERVAL) / TOTAL_STEPS\n",
    "\n",
    "        #Paramètres dynamiques\n",
    "        n_steps = int(2048 + (4096 - 2048) * current_progress**0.8)  # un peu plus progressif\n",
    "        batch_size = int(512 + (2048 - 512) * current_progress**1.0) # monte moins vite\n",
    "        ent_coef = max(0.001, 0.015 * (1 - current_progress**0.6))   # descend moins vite\n",
    "\n",
    "\n",
    "        opponent_stats = load_opponent_stats(opponent_pool)\n",
    "\n",
    "        env_init = TicTacToeTrainingEnv(\n",
    "            opponent_pool=opponent_pool,\n",
    "            first_play_rate=0.5,\n",
    "            lost_games_path=\"defeated_games.json\",\n",
    "            review_ratio=0.0,\n",
    "            opponent_statistics_file=STATS_PATH,\n",
    "        )\n",
    "        env = ActionMasker(env_init, mask_fn)\n",
    "\n",
    "        # Initialisation/Chargement du modèle\n",
    "        if check == 0:\n",
    "            if i == 1:\n",
    "                model = MaskablePPO(\n",
    "                    \"MultiInputPolicy\",\n",
    "                    env=env,\n",
    "                    verbose=1,\n",
    "                    gamma=GAMMA,\n",
    "                    gae_lambda=GAE_LAMBDA,\n",
    "                    ent_coef=ent_coef,\n",
    "                    n_steps=n_steps,\n",
    "                    batch_size=batch_size,\n",
    "                    learning_rate=LR_SCHEDULE(current_progress),\n",
    "                    policy_kwargs=POLICY_KWARGS\n",
    "                )\n",
    "            else:\n",
    "                prev_model_path = get_models(MODELS_DIR)[-1]\n",
    "                model = MaskablePPO.load(prev_model_path, env=env)\n",
    "                model.ent_coef = ent_coef\n",
    "                model.n_steps = n_steps\n",
    "                model.batch_size = batch_size\n",
    "                model.learning_rate = LR_SCHEDULE(current_progress)\n",
    "\n",
    "        print(f\"\\n{YELLOW}=== Training segment {check+1}/{n_checks} ===\")\n",
    "        print(f\"Steps: {check*CHECKPOINT_INTERVAL}-{(check+1)*CHECKPOINT_INTERVAL}\")\n",
    "        print(f\"Params: n_steps={n_steps}, batch={batch_size}, ent_coef={ent_coef:.4f}\")\n",
    "        print(f\"Opponents: {opponent_pool}{RESET}\\n\")\n",
    "\n",
    "        # Model training\n",
    "        model.learn(total_timesteps=CHECKPOINT_INTERVAL)\n",
    "\n",
    "        # Évaluation\n",
    "        results = evaluate_model_by_opponent(model, opponent_pool, n_episodes=200, stats_path=STATS_PATH)\n",
    "\n",
    "        current_stats = {k: {\n",
    "            \"defeat_rate\": v[\"defeat_rate\"],\n",
    "            \"victory_rate\": v[\"victory_rate\"]\n",
    "        } for k, v in results.items()}\n",
    "\n",
    "        # Logging\n",
    "        wandb.log({\n",
    "            **{f\"metrics/{k}_win_rate\": v[\"victory_rate\"] for k, v in results.items()},\n",
    "            **{f\"metrics/{k}_defeat_rate\": v[\"defeat_rate\"] for k, v in results.items()},\n",
    "            \"hyperparams/n_steps\": n_steps,\n",
    "            \"hyperparams/batch_size\": batch_size,\n",
    "            \"hyperparams/ent_coef\": ent_coef,\n",
    "            \"progress/current\": current_progress,\n",
    "            \"progress/checkpoint\": check\n",
    "        })\n",
    "\n",
    "        # Sauvegarde\n",
    "        if should_save_model(current_stats, best_stats, IMPROVEMENT_THRESHOLD):\n",
    "\n",
    "            print(f\"{GREEN}Saved new best model at checkpoint {check}{RESET}\")\n",
    "            print(f\"{RED}Old best stats -> {best_stats}{RESET}\")\n",
    "            print(f\"{YELLOW}New best stats -> {current_stats}{RESET}\")\n",
    "\n",
    "            improvement = True\n",
    "            best_model = model\n",
    "            best_stats = deepcopy(current_stats)\n",
    "            model.save(model_path)\n",
    "            save_opponent_stats(best_stats, STATS_PATH)\n",
    "\n",
    "\n",
    "    if improvement:\n",
    "        print(f\"{GREEN}Training completed for model {i}. Best model saved.{RESET}\")\n",
    "    else:\n",
    "        print(f\"{RED}Warning: No model met improvement criteria{RESET}\")\n",
    "\n",
    "\n",
    "    wandb.finish()"
   ],
   "id": "e7f729d70320b19",
   "outputs": [
    {
     "name": "stderr",
     "output_type": "stream",
     "text": [
      "\u001B[34m\u001B[1mwandb\u001B[0m: Using wandb-core as the SDK backend.  Please refer to https://wandb.me/wandb-core for more information.\n",
      "\u001B[34m\u001B[1mwandb\u001B[0m: Currently logged in as: \u001B[33mdjolemarc\u001B[0m (\u001B[33mdjolemarc-none\u001B[0m) to \u001B[32mhttps://api.wandb.ai\u001B[0m. Use \u001B[1m`wandb login --relogin`\u001B[0m to force relogin\n",
      "\u001B[34m\u001B[1mwandb\u001B[0m: \u001B[33mWARNING\u001B[0m Using a boolean value for 'reinit' is deprecated. Use 'return_previous' or 'finish_previous' instead.\n"
     ]
    },
    {
     "data": {
      "text/plain": [
       "<IPython.core.display.HTML object>"
      ],
      "text/html": [
       "Tracking run with wandb version 0.19.9"
      ]
     },
     "metadata": {},
     "output_type": "display_data"
    },
    {
     "data": {
      "text/plain": [
       "<IPython.core.display.HTML object>"
      ],
      "text/html": [
       "Run data is saved locally in <code>/home/cytech/PROGRAMMATION/AI/tic_tac_toe_rl/scripts/wandb/run-20250706_002344-hb33u0r5</code>"
      ]
     },
     "metadata": {},
     "output_type": "display_data"
    },
    {
     "data": {
      "text/plain": [
       "<IPython.core.display.HTML object>"
      ],
      "text/html": [
       "Syncing run <strong><a href='https://wandb.ai/djolemarc-none/models_CONNECTX_KAGGLE/runs/hb33u0r5' target=\"_blank\">models-run_model_1</a></strong> to <a href='https://wandb.ai/djolemarc-none/models_CONNECTX_KAGGLE' target=\"_blank\">Weights & Biases</a> (<a href='https://wandb.me/developer-guide' target=\"_blank\">docs</a>)<br>"
      ]
     },
     "metadata": {},
     "output_type": "display_data"
    },
    {
     "data": {
      "text/plain": [
       "<IPython.core.display.HTML object>"
      ],
      "text/html": [
       " View project at <a href='https://wandb.ai/djolemarc-none/models_CONNECTX_KAGGLE' target=\"_blank\">https://wandb.ai/djolemarc-none/models_CONNECTX_KAGGLE</a>"
      ]
     },
     "metadata": {},
     "output_type": "display_data"
    },
    {
     "data": {
      "text/plain": [
       "<IPython.core.display.HTML object>"
      ],
      "text/html": [
       " View run at <a href='https://wandb.ai/djolemarc-none/models_CONNECTX_KAGGLE/runs/hb33u0r5' target=\"_blank\">https://wandb.ai/djolemarc-none/models_CONNECTX_KAGGLE/runs/hb33u0r5</a>"
      ]
     },
     "metadata": {},
     "output_type": "display_data"
    },
    {
     "name": "stdout",
     "output_type": "stream",
     "text": [
      "⚠️ No statistics file provided or file not found.\n",
      "Using cpu device\n",
      "Wrapping the env with a `Monitor` wrapper\n",
      "Wrapping the env in a DummyVecEnv.\n",
      "\n",
      "\u001B[33m=== Training segment 1/20 ===\n",
      "Steps: 0-10000\n",
      "Params: n_steps=2048, batch=512, ent_coef=0.0150\n",
      "Opponents: ['random', 'smart_random']\u001B[0m\n",
      "\n"
     ]
    },
    {
     "ename": "TypeError",
     "evalue": "float() argument must be a string or a real number, not 'NoneType'",
     "output_type": "error",
     "traceback": [
      "\u001B[0;31m---------------------------------------------------------------------------\u001B[0m",
      "\u001B[0;31mTypeError\u001B[0m                                 Traceback (most recent call last)",
      "Cell \u001B[0;32mIn[2], line 81\u001B[0m\n\u001B[1;32m     78\u001B[0m \u001B[38;5;28mprint\u001B[39m(\u001B[38;5;124mf\u001B[39m\u001B[38;5;124m\"\u001B[39m\u001B[38;5;124mOpponents: \u001B[39m\u001B[38;5;132;01m{\u001B[39;00mopponent_pool\u001B[38;5;132;01m}\u001B[39;00m\u001B[38;5;132;01m{\u001B[39;00mRESET\u001B[38;5;132;01m}\u001B[39;00m\u001B[38;5;130;01m\\n\u001B[39;00m\u001B[38;5;124m\"\u001B[39m)\n\u001B[1;32m     80\u001B[0m \u001B[38;5;66;03m# Model training\u001B[39;00m\n\u001B[0;32m---> 81\u001B[0m \u001B[43mmodel\u001B[49m\u001B[38;5;241;43m.\u001B[39;49m\u001B[43mlearn\u001B[49m\u001B[43m(\u001B[49m\u001B[43mtotal_timesteps\u001B[49m\u001B[38;5;241;43m=\u001B[39;49m\u001B[43mCHECKPOINT_INTERVAL\u001B[49m\u001B[43m)\u001B[49m\n\u001B[1;32m     83\u001B[0m \u001B[38;5;66;03m# Évaluation\u001B[39;00m\n\u001B[1;32m     84\u001B[0m results \u001B[38;5;241m=\u001B[39m evaluate_model_by_opponent(model, opponent_pool, n_episodes\u001B[38;5;241m=\u001B[39m\u001B[38;5;241m200\u001B[39m, stats_path\u001B[38;5;241m=\u001B[39mSTATS_PATH)\n",
      "File \u001B[0;32m~/PROGRAMMATION/PYTHON/PERSO/EXERCISM/venv/lib/python3.10/site-packages/sb3_contrib/ppo_mask/ppo_mask.py:454\u001B[0m, in \u001B[0;36mMaskablePPO.learn\u001B[0;34m(self, total_timesteps, callback, log_interval, tb_log_name, reset_num_timesteps, use_masking, progress_bar)\u001B[0m\n\u001B[1;32m    451\u001B[0m \u001B[38;5;28;01massert\u001B[39;00m \u001B[38;5;28mself\u001B[39m\u001B[38;5;241m.\u001B[39menv \u001B[38;5;129;01mis\u001B[39;00m \u001B[38;5;129;01mnot\u001B[39;00m \u001B[38;5;28;01mNone\u001B[39;00m\n\u001B[1;32m    453\u001B[0m \u001B[38;5;28;01mwhile\u001B[39;00m \u001B[38;5;28mself\u001B[39m\u001B[38;5;241m.\u001B[39mnum_timesteps \u001B[38;5;241m<\u001B[39m total_timesteps:\n\u001B[0;32m--> 454\u001B[0m     continue_training \u001B[38;5;241m=\u001B[39m \u001B[38;5;28;43mself\u001B[39;49m\u001B[38;5;241;43m.\u001B[39;49m\u001B[43mcollect_rollouts\u001B[49m\u001B[43m(\u001B[49m\u001B[38;5;28;43mself\u001B[39;49m\u001B[38;5;241;43m.\u001B[39;49m\u001B[43menv\u001B[49m\u001B[43m,\u001B[49m\u001B[43m \u001B[49m\u001B[43mcallback\u001B[49m\u001B[43m,\u001B[49m\u001B[43m \u001B[49m\u001B[38;5;28;43mself\u001B[39;49m\u001B[38;5;241;43m.\u001B[39;49m\u001B[43mrollout_buffer\u001B[49m\u001B[43m,\u001B[49m\u001B[43m \u001B[49m\u001B[38;5;28;43mself\u001B[39;49m\u001B[38;5;241;43m.\u001B[39;49m\u001B[43mn_steps\u001B[49m\u001B[43m,\u001B[49m\u001B[43m \u001B[49m\u001B[43muse_masking\u001B[49m\u001B[43m)\u001B[49m\n\u001B[1;32m    456\u001B[0m     \u001B[38;5;28;01mif\u001B[39;00m \u001B[38;5;129;01mnot\u001B[39;00m continue_training:\n\u001B[1;32m    457\u001B[0m         \u001B[38;5;28;01mbreak\u001B[39;00m\n",
      "File \u001B[0;32m~/PROGRAMMATION/PYTHON/PERSO/EXERCISM/venv/lib/python3.10/site-packages/sb3_contrib/ppo_mask/ppo_mask.py:233\u001B[0m, in \u001B[0;36mMaskablePPO.collect_rollouts\u001B[0;34m(self, env, callback, rollout_buffer, n_rollout_steps, use_masking)\u001B[0m\n\u001B[1;32m    230\u001B[0m     actions, values, log_probs \u001B[38;5;241m=\u001B[39m \u001B[38;5;28mself\u001B[39m\u001B[38;5;241m.\u001B[39mpolicy(obs_tensor, action_masks\u001B[38;5;241m=\u001B[39maction_masks)\n\u001B[1;32m    232\u001B[0m actions \u001B[38;5;241m=\u001B[39m actions\u001B[38;5;241m.\u001B[39mcpu()\u001B[38;5;241m.\u001B[39mnumpy()\n\u001B[0;32m--> 233\u001B[0m new_obs, rewards, dones, infos \u001B[38;5;241m=\u001B[39m \u001B[43menv\u001B[49m\u001B[38;5;241;43m.\u001B[39;49m\u001B[43mstep\u001B[49m\u001B[43m(\u001B[49m\u001B[43mactions\u001B[49m\u001B[43m)\u001B[49m\n\u001B[1;32m    235\u001B[0m \u001B[38;5;28mself\u001B[39m\u001B[38;5;241m.\u001B[39mnum_timesteps \u001B[38;5;241m+\u001B[39m\u001B[38;5;241m=\u001B[39m env\u001B[38;5;241m.\u001B[39mnum_envs\n\u001B[1;32m    237\u001B[0m \u001B[38;5;66;03m# Give access to local variables\u001B[39;00m\n",
      "File \u001B[0;32m~/PROGRAMMATION/PYTHON/PERSO/EXERCISM/venv/lib/python3.10/site-packages/stable_baselines3/common/vec_env/base_vec_env.py:222\u001B[0m, in \u001B[0;36mVecEnv.step\u001B[0;34m(self, actions)\u001B[0m\n\u001B[1;32m    215\u001B[0m \u001B[38;5;250m\u001B[39m\u001B[38;5;124;03m\"\"\"\u001B[39;00m\n\u001B[1;32m    216\u001B[0m \u001B[38;5;124;03mStep the environments with the given action\u001B[39;00m\n\u001B[1;32m    217\u001B[0m \n\u001B[1;32m    218\u001B[0m \u001B[38;5;124;03m:param actions: the action\u001B[39;00m\n\u001B[1;32m    219\u001B[0m \u001B[38;5;124;03m:return: observation, reward, done, information\u001B[39;00m\n\u001B[1;32m    220\u001B[0m \u001B[38;5;124;03m\"\"\"\u001B[39;00m\n\u001B[1;32m    221\u001B[0m \u001B[38;5;28mself\u001B[39m\u001B[38;5;241m.\u001B[39mstep_async(actions)\n\u001B[0;32m--> 222\u001B[0m \u001B[38;5;28;01mreturn\u001B[39;00m \u001B[38;5;28;43mself\u001B[39;49m\u001B[38;5;241;43m.\u001B[39;49m\u001B[43mstep_wait\u001B[49m\u001B[43m(\u001B[49m\u001B[43m)\u001B[49m\n",
      "File \u001B[0;32m~/PROGRAMMATION/PYTHON/PERSO/EXERCISM/venv/lib/python3.10/site-packages/stable_baselines3/common/vec_env/dummy_vec_env.py:59\u001B[0m, in \u001B[0;36mDummyVecEnv.step_wait\u001B[0;34m(self)\u001B[0m\n\u001B[1;32m     56\u001B[0m \u001B[38;5;28;01mdef\u001B[39;00m\u001B[38;5;250m \u001B[39m\u001B[38;5;21mstep_wait\u001B[39m(\u001B[38;5;28mself\u001B[39m) \u001B[38;5;241m-\u001B[39m\u001B[38;5;241m>\u001B[39m VecEnvStepReturn:\n\u001B[1;32m     57\u001B[0m     \u001B[38;5;66;03m# Avoid circular imports\u001B[39;00m\n\u001B[1;32m     58\u001B[0m     \u001B[38;5;28;01mfor\u001B[39;00m env_idx \u001B[38;5;129;01min\u001B[39;00m \u001B[38;5;28mrange\u001B[39m(\u001B[38;5;28mself\u001B[39m\u001B[38;5;241m.\u001B[39mnum_envs):\n\u001B[0;32m---> 59\u001B[0m         obs, \u001B[38;5;28mself\u001B[39m\u001B[38;5;241m.\u001B[39mbuf_rews[env_idx], terminated, truncated, \u001B[38;5;28mself\u001B[39m\u001B[38;5;241m.\u001B[39mbuf_infos[env_idx] \u001B[38;5;241m=\u001B[39m \u001B[38;5;28;43mself\u001B[39;49m\u001B[38;5;241;43m.\u001B[39;49m\u001B[43menvs\u001B[49m\u001B[43m[\u001B[49m\u001B[43menv_idx\u001B[49m\u001B[43m]\u001B[49m\u001B[38;5;241;43m.\u001B[39;49m\u001B[43mstep\u001B[49m\u001B[43m(\u001B[49m\u001B[43m  \u001B[49m\u001B[38;5;66;43;03m# type: ignore[assignment]\u001B[39;49;00m\n\u001B[1;32m     60\u001B[0m \u001B[43m            \u001B[49m\u001B[38;5;28;43mself\u001B[39;49m\u001B[38;5;241;43m.\u001B[39;49m\u001B[43mactions\u001B[49m\u001B[43m[\u001B[49m\u001B[43menv_idx\u001B[49m\u001B[43m]\u001B[49m\n\u001B[1;32m     61\u001B[0m \u001B[43m        \u001B[49m\u001B[43m)\u001B[49m\n\u001B[1;32m     62\u001B[0m         \u001B[38;5;66;03m# convert to SB3 VecEnv api\u001B[39;00m\n\u001B[1;32m     63\u001B[0m         \u001B[38;5;28mself\u001B[39m\u001B[38;5;241m.\u001B[39mbuf_dones[env_idx] \u001B[38;5;241m=\u001B[39m terminated \u001B[38;5;129;01mor\u001B[39;00m truncated\n",
      "File \u001B[0;32m~/PROGRAMMATION/PYTHON/PERSO/EXERCISM/venv/lib/python3.10/site-packages/stable_baselines3/common/monitor.py:95\u001B[0m, in \u001B[0;36mMonitor.step\u001B[0;34m(self, action)\u001B[0m\n\u001B[1;32m     93\u001B[0m     \u001B[38;5;28;01mraise\u001B[39;00m \u001B[38;5;167;01mRuntimeError\u001B[39;00m(\u001B[38;5;124m\"\u001B[39m\u001B[38;5;124mTried to step environment that needs reset\u001B[39m\u001B[38;5;124m\"\u001B[39m)\n\u001B[1;32m     94\u001B[0m observation, reward, terminated, truncated, info \u001B[38;5;241m=\u001B[39m \u001B[38;5;28mself\u001B[39m\u001B[38;5;241m.\u001B[39menv\u001B[38;5;241m.\u001B[39mstep(action)\n\u001B[0;32m---> 95\u001B[0m \u001B[38;5;28mself\u001B[39m\u001B[38;5;241m.\u001B[39mrewards\u001B[38;5;241m.\u001B[39mappend(\u001B[38;5;28;43mfloat\u001B[39;49m\u001B[43m(\u001B[49m\u001B[43mreward\u001B[49m\u001B[43m)\u001B[49m)\n\u001B[1;32m     96\u001B[0m \u001B[38;5;28;01mif\u001B[39;00m terminated \u001B[38;5;129;01mor\u001B[39;00m truncated:\n\u001B[1;32m     97\u001B[0m     \u001B[38;5;28mself\u001B[39m\u001B[38;5;241m.\u001B[39mneeds_reset \u001B[38;5;241m=\u001B[39m \u001B[38;5;28;01mTrue\u001B[39;00m\n",
      "\u001B[0;31mTypeError\u001B[0m: float() argument must be a string or a real number, not 'NoneType'"
     ]
    }
   ],
   "execution_count": 2
  }
 ],
 "metadata": {
  "kernelspec": {
   "display_name": "Python 3",
   "language": "python",
   "name": "python3"
  },
  "language_info": {
   "codemirror_mode": {
    "name": "ipython",
    "version": 2
   },
   "file_extension": ".py",
   "mimetype": "text/x-python",
   "name": "python",
   "nbconvert_exporter": "python",
   "pygments_lexer": "ipython2",
   "version": "2.7.6"
  }
 },
 "nbformat": 4,
 "nbformat_minor": 5
}
